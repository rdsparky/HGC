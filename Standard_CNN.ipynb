{
 "cells": [
  {
   "cell_type": "code",
   "execution_count": 1,
   "metadata": {},
   "outputs": [
    {
     "name": "stdout",
     "output_type": "stream",
     "text": [
      "WARNING:tensorflow:From C:\\Anaconda3\\lib\\site-packages\\tensorflow\\python\\ops\\resource_variable_ops.py:435: colocate_with (from tensorflow.python.framework.ops) is deprecated and will be removed in a future version.\n",
      "Instructions for updating:\n",
      "Colocations handled automatically by placer.\n",
      "Train on 12853 samples, validate on 5509 samples\n",
      "WARNING:tensorflow:From C:\\Anaconda3\\lib\\site-packages\\tensorflow\\python\\ops\\math_ops.py:3066: to_int32 (from tensorflow.python.ops.math_ops) is deprecated and will be removed in a future version.\n",
      "Instructions for updating:\n",
      "Use tf.cast instead.\n",
      "Epoch 1/20\n",
      "12853/12853 [==============================] - 2667s 207ms/sample - loss: 0.6168 - acc: 0.6670 - val_loss: 0.5281 - val_acc: 0.7299\n",
      "Epoch 2/20\n",
      "12853/12853 [==============================] - 2730s 212ms/sample - loss: 0.5096 - acc: 0.7527 - val_loss: 0.4938 - val_acc: 0.7611\n",
      "Epoch 3/20\n",
      "12853/12853 [==============================] - 2747s 214ms/sample - loss: 0.4595 - acc: 0.7862 - val_loss: 0.4681 - val_acc: 0.7809\n",
      "Epoch 4/20\n",
      "12853/12853 [==============================] - 2280s 177ms/sample - loss: 0.4241 - acc: 0.8056 - val_loss: 0.4319 - val_acc: 0.8007\n",
      "Epoch 5/20\n",
      "12853/12853 [==============================] - 2669s 208ms/sample - loss: 0.3907 - acc: 0.8217 - val_loss: 0.4311 - val_acc: 0.8009\n",
      "Epoch 6/20\n",
      "12853/12853 [==============================] - 2568s 200ms/sample - loss: 0.3776 - acc: 0.8317 - val_loss: 0.4222 - val_acc: 0.8063\n",
      "Epoch 7/20\n",
      "12853/12853 [==============================] - 2340s 182ms/sample - loss: 0.3548 - acc: 0.8460 - val_loss: 0.4174 - val_acc: 0.8158\n",
      "Epoch 8/20\n",
      "12853/12853 [==============================] - 2433s 189ms/sample - loss: 0.3404 - acc: 0.8524 - val_loss: 0.3967 - val_acc: 0.8203\n",
      "Epoch 9/20\n",
      "12853/12853 [==============================] - 2217s 172ms/sample - loss: 0.3278 - acc: 0.8571 - val_loss: 0.4194 - val_acc: 0.8183\n",
      "Epoch 10/20\n",
      "12853/12853 [==============================] - 2754s 214ms/sample - loss: 0.3119 - acc: 0.8643 - val_loss: 0.4238 - val_acc: 0.8150\n",
      "Epoch 11/20\n",
      "12853/12853 [==============================] - 2741s 213ms/sample - loss: 0.3037 - acc: 0.8677 - val_loss: 0.4115 - val_acc: 0.8272\n",
      "Epoch 12/20\n",
      "12853/12853 [==============================] - 2730s 212ms/sample - loss: 0.2933 - acc: 0.8760 - val_loss: 0.4113 - val_acc: 0.8247\n",
      "Epoch 13/20\n",
      "12853/12853 [==============================] - 2723s 212ms/sample - loss: 0.2808 - acc: 0.8782 - val_loss: 0.4093 - val_acc: 0.8239\n",
      "Epoch 14/20\n",
      "12853/12853 [==============================] - 2718s 211ms/sample - loss: 0.2758 - acc: 0.8830 - val_loss: 0.4013 - val_acc: 0.8306\n",
      "Epoch 15/20\n",
      "12853/12853 [==============================] - 2724s 212ms/sample - loss: 0.2630 - acc: 0.8903 - val_loss: 0.4327 - val_acc: 0.8259\n",
      "Epoch 16/20\n",
      "12853/12853 [==============================] - 2748s 214ms/sample - loss: 0.2582 - acc: 0.8893 - val_loss: 0.4813 - val_acc: 0.8118\n",
      "Epoch 17/20\n",
      "12853/12853 [==============================] - 2775s 216ms/sample - loss: 0.2488 - acc: 0.8950 - val_loss: 0.4303 - val_acc: 0.8290\n",
      "Epoch 18/20\n",
      "12853/12853 [==============================] - 2729s 212ms/sample - loss: 0.2502 - acc: 0.8949 - val_loss: 0.4079 - val_acc: 0.8274\n",
      "Epoch 19/20\n",
      "12853/12853 [==============================] - 2726s 212ms/sample - loss: 0.2391 - acc: 0.9010 - val_loss: 0.4178 - val_acc: 0.8315\n",
      "Epoch 20/20\n",
      "12853/12853 [==============================] - 2735s 213ms/sample - loss: 0.2318 - acc: 0.9022 - val_loss: 0.4160 - val_acc: 0.8319\n"
     ]
    },
    {
     "data": {
      "text/plain": [
       "<tensorflow.python.keras.callbacks.History at 0x50e27eae10>"
      ]
     },
     "execution_count": 1,
     "metadata": {},
     "output_type": "execute_result"
    }
   ],
   "source": [
    "import tensorflow as tf\n",
    "from tensorflow.keras.datasets import cifar10\n",
    "from tensorflow.keras.preprocessing.image import ImageDataGenerator\n",
    "from tensorflow.keras.models import Sequential\n",
    "from tensorflow.keras.layers import Dense, Dropout, Activation, Flatten\n",
    "from tensorflow.keras.layers import Conv2D, MaxPooling2D\n",
    "\n",
    "import pickle\n",
    "\n",
    "pickle_in = open(\"X.pickle\",\"rb\")\n",
    "X = pickle.load(pickle_in)\n",
    "\n",
    "pickle_in = open(\"y.pickle\",\"rb\")\n",
    "y = pickle.load(pickle_in)\n",
    "\n",
    "X = X/255.0\n",
    "\n",
    "model = Sequential()\n",
    "\n",
    "model.add(Conv2D(256, (3, 3), input_shape=X.shape[1:]))\n",
    "model.add(Activation('relu'))\n",
    "model.add(MaxPooling2D(pool_size=(2, 2)))\n",
    "\n",
    "model.add(Conv2D(256, (3, 3)))\n",
    "model.add(Activation('relu'))\n",
    "model.add(MaxPooling2D(pool_size=(2, 2)))\n",
    "\n",
    "model.add(Flatten())  # this converts our 3D feature maps to 1D feature vectors\n",
    "\n",
    "model.add(Dense(64))\n",
    "\n",
    "model.add(Dense(1))\n",
    "model.add(Activation('sigmoid'))\n",
    "\n",
    "model.compile(loss='binary_crossentropy',\n",
    "              optimizer='adam',\n",
    "              metrics=['accuracy'])\n",
    "\n",
    "model.fit(X, y, batch_size=30, epochs=20, validation_split=0.3)"
   ]
  },
  {
   "cell_type": "code",
   "execution_count": null,
   "metadata": {},
   "outputs": [],
   "source": []
  }
 ],
 "metadata": {
  "kernelspec": {
   "display_name": "Python 3",
   "language": "python",
   "name": "python3"
  },
  "language_info": {
   "codemirror_mode": {
    "name": "ipython",
    "version": 3
   },
   "file_extension": ".py",
   "mimetype": "text/x-python",
   "name": "python",
   "nbconvert_exporter": "python",
   "pygments_lexer": "ipython3",
   "version": "3.7.1"
  }
 },
 "nbformat": 4,
 "nbformat_minor": 2
}
